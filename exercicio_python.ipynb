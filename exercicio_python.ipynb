{
 "cells": [
  {
   "cell_type": "code",
   "execution_count": 20,
   "metadata": {},
   "outputs": [
    {
     "name": "stdout",
     "output_type": "stream",
     "text": [
      "LOW: 1\n",
      "HIGH: 3\n",
      "MID: 2\n"
     ]
    }
   ],
   "source": [
    "# Crie uma lista com valores crescente\n",
    "lista = [1, 2, 3, 4, 5, 6, 7, 8, 9]\n",
    "\n",
    "# Crie um algoritmo para encontrar a posição do seu alvo\n",
    "low = lista[0]\n",
    "high = lista[2]\n",
    "\n",
    "mid = (high + low) // 2\n",
    "\n",
    "print('LOW:',low)\n",
    "print('HIGH:',high)\n",
    "print('MID:',mid)\n"
   ]
  },
  {
   "cell_type": "code",
   "execution_count": 21,
   "metadata": {},
   "outputs": [],
   "source": [
    "# Crie um alvo para a sua lista\n",
    "alvo = 5"
   ]
  },
  {
   "cell_type": "code",
   "execution_count": 22,
   "metadata": {},
   "outputs": [
    {
     "name": "stdout",
     "output_type": "stream",
     "text": [
      "O elemento 5 foi encontrado na posição 4 da lista.\n"
     ]
    }
   ],
   "source": [
    "# Implemente o algoritmo de busca linear\n",
    "def busca_linear(lista, alvo):\n",
    "    for i in range(len(lista)):\n",
    "        if lista[i] == alvo:\n",
    "            return i\n",
    "    return -1\n",
    "\n",
    "indice = busca_linear(lista, alvo)\n",
    "\n",
    "if indice != -1:\n",
    "    print(f'O elemento {alvo} foi encontrado na posição {indice} da lista.')\n",
    "else:\n",
    "    print(f'O elemento {alvo} não foi encontrado na lista.')"
   ]
  },
  {
   "cell_type": "code",
   "execution_count": 23,
   "metadata": {},
   "outputs": [
    {
     "name": "stdout",
     "output_type": "stream",
     "text": [
      "Elemento está presente no index 4\n"
     ]
    }
   ],
   "source": [
    "# Implemente o algoritmo de busca binária\n",
    "def busca_binaria(array, x, low, high):\n",
    "    while low <= high:\n",
    "        # Forma de calcular a média\n",
    "        # Só podem ser valores inteiros\n",
    "        mid = low + (high - low) // 2\n",
    "        # Se o valor de middle for igual de X\n",
    "        if array[mid] == x:\n",
    "            # O valor do middle é retornado\n",
    "            return mid\n",
    "        # Continua percorrendo a lista\n",
    "        # Se o X for maior que o middle\n",
    "        elif array[mid] < x:\n",
    "            # Alterna o valor do low, já que o middle não foi encontrado\n",
    "            low = mid + 1\n",
    "        else:\n",
    "            # Alterna o valor do high, já que o middle não foi encontrado\n",
    "            high = mid - 1\n",
    "    return -1\n",
    "\n",
    "resultado = busca_binaria(lista, alvo, 0, len(lista)-1)\n",
    "if resultado != -1:\n",
    "    print('Elemento está presente no index ' + str(resultado))\n",
    "else:\n",
    "    print('Elemento não encontrado')\n"
   ]
  },
  {
   "cell_type": "code",
   "execution_count": null,
   "metadata": {},
   "outputs": [],
   "source": []
  }
 ],
 "metadata": {
  "kernelspec": {
   "display_name": "venv",
   "language": "python",
   "name": "python3"
  },
  "language_info": {
   "codemirror_mode": {
    "name": "ipython",
    "version": 3
   },
   "file_extension": ".py",
   "mimetype": "text/x-python",
   "name": "python",
   "nbconvert_exporter": "python",
   "pygments_lexer": "ipython3",
   "version": "3.11.4"
  },
  "orig_nbformat": 4
 },
 "nbformat": 4,
 "nbformat_minor": 2
}
